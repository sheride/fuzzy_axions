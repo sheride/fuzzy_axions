{
 "cells": [
  {
   "cell_type": "code",
   "execution_count": 36,
   "id": "3eea6b68-50fa-4675-8d7c-fe28f537eacc",
   "metadata": {
    "tags": []
   },
   "outputs": [],
   "source": [
    "import cytools\n",
    "import numpy as np\n",
    "import pandas as pd"
   ]
  },
  {
   "cell_type": "code",
   "execution_count": 37,
   "id": "1c5269c5-c759-48d5-b1b6-27847c4ae1c0",
   "metadata": {
    "tags": []
   },
   "outputs": [],
   "source": [
    "df = pd.read_pickle('data.p')"
   ]
  },
  {
   "cell_type": "code",
   "execution_count": 38,
   "id": "0d88aec5-ed9d-4d71-b9d5-a4b681972d24",
   "metadata": {
    "tags": []
   },
   "outputs": [
    {
     "data": {
      "text/html": [
       "<style type=\"text/css\">\n",
       "</style>\n",
       "<table id=\"T_0d291\">\n",
       "  <thead>\n",
       "    <tr>\n",
       "      <th class=\"blank level0\" >&nbsp;</th>\n",
       "      <th id=\"T_0d291_level0_col0\" class=\"col_heading level0 col0\" >h11</th>\n",
       "      <th id=\"T_0d291_level0_col1\" class=\"col_heading level0 col1\" >points</th>\n",
       "      <th id=\"T_0d291_level0_col2\" class=\"col_heading level0 col2\" >heights</th>\n",
       "      <th id=\"T_0d291_level0_col3\" class=\"col_heading level0 col3\" >kahler</th>\n",
       "      <th id=\"T_0d291_level0_col4\" class=\"col_heading level0 col4\" >W0</th>\n",
       "      <th id=\"T_0d291_level0_col5\" class=\"col_heading level0 col5\" >gs</th>\n",
       "      <th id=\"T_0d291_level0_col6\" class=\"col_heading level0 col6\" >QCD_index</th>\n",
       "      <th id=\"T_0d291_level0_col7\" class=\"col_heading level0 col7\" >basis_QCD_index</th>\n",
       "      <th id=\"T_0d291_level0_col8\" class=\"col_heading level0 col8\" >log10 ma eV</th>\n",
       "      <th id=\"T_0d291_level0_col9\" class=\"col_heading level0 col9\" >log10 f GeV</th>\n",
       "      <th id=\"T_0d291_level0_col10\" class=\"col_heading level0 col10\" >omega</th>\n",
       "      <th id=\"T_0d291_level0_col11\" class=\"col_heading level0 col11\" >theta</th>\n",
       "      <th id=\"T_0d291_level0_col12\" class=\"col_heading level0 col12\" >log10 TR GeV</th>\n",
       "      <th id=\"T_0d291_level0_col13\" class=\"col_heading level0 col13\" >TR scenario</th>\n",
       "      <th id=\"T_0d291_level0_col14\" class=\"col_heading level0 col14\" >extra</th>\n",
       "    </tr>\n",
       "  </thead>\n",
       "  <tbody>\n",
       "    <tr>\n",
       "      <th id=\"T_0d291_level0_row0\" class=\"row_heading level0 row0\" >0</th>\n",
       "      <td id=\"T_0d291_row0_col0\" class=\"data row0 col0\" >2</td>\n",
       "      <td id=\"T_0d291_row0_col1\" class=\"data row0 col1\" >((0, 0, 0, 0), (1, 0, 0, 0), (-1, 3, -2, -1), (0, 0, 0, 1), (0, 0, 1, 0), (-2, -1, 0, 0), (0, 1, 0, 0), (-1, 0, 0, 0))</td>\n",
       "      <td id=\"T_0d291_row0_col2\" class=\"data row0 col2\" >(0, 1, 15, 1, 1, 5, 1)</td>\n",
       "      <td id=\"T_0d291_row0_col3\" class=\"data row0 col3\" >[16.68051087  2.69286977]</td>\n",
       "      <td id=\"T_0d291_row0_col4\" class=\"data row0 col4\" >1.000000</td>\n",
       "      <td id=\"T_0d291_row0_col5\" class=\"data row0 col5\" >0.502973</td>\n",
       "      <td id=\"T_0d291_row0_col6\" class=\"data row0 col6\" >5</td>\n",
       "      <td id=\"T_0d291_row0_col7\" class=\"data row0 col7\" >0</td>\n",
       "      <td id=\"T_0d291_row0_col8\" class=\"data row0 col8\" >[ -8.74968564 -19.29843909]</td>\n",
       "      <td id=\"T_0d291_row0_col9\" class=\"data row0 col9\" >[15.50557954 16.08226903]</td>\n",
       "      <td id=\"T_0d291_row0_col10\" class=\"data row0 col10\" >[0.5 0.5]</td>\n",
       "      <td id=\"T_0d291_row0_col11\" class=\"data row0 col11\" >[0.00628954 0.99999999]</td>\n",
       "      <td id=\"T_0d291_row0_col12\" class=\"data row0 col12\" >unconstrained</td>\n",
       "      <td id=\"T_0d291_row0_col13\" class=\"data row0 col13\" >prompt reheating</td>\n",
       "      <td id=\"T_0d291_row0_col14\" class=\"data row0 col14\" >{}</td>\n",
       "    </tr>\n",
       "    <tr>\n",
       "      <th id=\"T_0d291_level0_row1\" class=\"row_heading level0 row1\" >1</th>\n",
       "      <td id=\"T_0d291_row1_col0\" class=\"data row1 col0\" >6</td>\n",
       "      <td id=\"T_0d291_row1_col1\" class=\"data row1 col1\" >((0, 0, 0, 0), (0, 1, 0, 0), (-1, 0, 1, -1), (0, 0, 0, 1), (0, 0, 1, 0), (2, -1, -1, 0), (-1, -1, -1, 0), (1, 0, 0, 0), (-1, 0, 0, 0), (0, -1, -1, 0), (1, -1, -1, 0))</td>\n",
       "      <td id=\"T_0d291_row1_col2\" class=\"data row1 col2\" >(3, 7, 8, 3, 3, 0, 6, 3, 7, 3, 1)</td>\n",
       "      <td id=\"T_0d291_row1_col3\" class=\"data row1 col3\" >[ 4.53582517  5.66978147 -3.40186888  3.40186888  4.53582517 -2.26791259]</td>\n",
       "      <td id=\"T_0d291_row1_col4\" class=\"data row1 col4\" >0.000015</td>\n",
       "      <td id=\"T_0d291_row1_col5\" class=\"data row1 col5\" >0.502973</td>\n",
       "      <td id=\"T_0d291_row1_col6\" class=\"data row1 col6\" >4</td>\n",
       "      <td id=\"T_0d291_row1_col7\" class=\"data row1 col7\" >2</td>\n",
       "      <td id=\"T_0d291_row1_col8\" class=\"data row1 col8\" >[ 13.3980206   -1.33483305  -8.83505633 -15.91335594 -17.99999924\n",
       " -20.81648415]</td>\n",
       "      <td id=\"T_0d291_row1_col9\" class=\"data row1 col9\" >[15.56959613 15.57170065 15.59095023 15.33537377 15.67667346 15.87447293]</td>\n",
       "      <td id=\"T_0d291_row1_col10\" class=\"data row1 col10\" >[0.         0.         0.31110726 0.31110726 0.34432717 0.03345831]</td>\n",
       "      <td id=\"T_0d291_row1_col11\" class=\"data row1 col11\" >[1.         1.         0.00440954 0.66153923 1.         1.        ]</td>\n",
       "      <td id=\"T_0d291_row1_col12\" class=\"data row1 col12\" >10.759629</td>\n",
       "      <td id=\"T_0d291_row1_col13\" class=\"data row1 col13\" >prompt reheating</td>\n",
       "      <td id=\"T_0d291_row1_col14\" class=\"data row1 col14\" >{}</td>\n",
       "    </tr>\n",
       "    <tr>\n",
       "      <th id=\"T_0d291_level0_row2\" class=\"row_heading level0 row2\" >2</th>\n",
       "      <td id=\"T_0d291_row2_col0\" class=\"data row2 col0\" >6</td>\n",
       "      <td id=\"T_0d291_row2_col1\" class=\"data row2 col1\" >((0, 0, 0, 0), (0, 1, 0, 0), (-1, 0, 1, -1), (0, 0, 0, 1), (0, 0, 1, 0), (2, -1, -1, 0), (-1, -1, -1, 0), (1, 0, 0, 0), (-1, 0, 0, 0), (0, -1, -1, 0), (1, -1, -1, 0))</td>\n",
       "      <td id=\"T_0d291_row2_col2\" class=\"data row2 col2\" >(3, 7, 8, 3, 3, 0, 6, 3, 7, 3, 1)</td>\n",
       "      <td id=\"T_0d291_row2_col3\" class=\"data row2 col3\" >[ 4.45376617  5.56720771 -3.34032463  3.34032463  4.45376617 -2.22688308]</td>\n",
       "      <td id=\"T_0d291_row2_col4\" class=\"data row2 col4\" >0.000000</td>\n",
       "      <td id=\"T_0d291_row2_col5\" class=\"data row2 col5\" >0.502973</td>\n",
       "      <td id=\"T_0d291_row2_col6\" class=\"data row2 col6\" >4</td>\n",
       "      <td id=\"T_0d291_row2_col7\" class=\"data row2 col7\" >2</td>\n",
       "      <td id=\"T_0d291_row2_col8\" class=\"data row2 col8\" >[ 12.26574358  -1.93242343  -8.85091412 -15.97625969 -17.99999868\n",
       " -20.72212713]</td>\n",
       "      <td id=\"T_0d291_row2_col9\" class=\"data row2 col9\" >[15.58545392 15.58755844 15.60680802 15.35123156 15.69253125 15.89033072]</td>\n",
       "      <td id=\"T_0d291_row2_col10\" class=\"data row2 col10\" >[0.19197567 0.19197567 0.19197567 0.19197567 0.19197567 0.04012163]</td>\n",
       "      <td id=\"T_0d291_row2_col11\" class=\"data row2 col11\" >[0.0141403  0.01407195 0.01346184 0.5185649  0.71991218 1.        ]</td>\n",
       "      <td id=\"T_0d291_row2_col12\" class=\"data row2 col12\" >10.795284</td>\n",
       "      <td id=\"T_0d291_row2_col13\" class=\"data row2 col13\" >modulus domination</td>\n",
       "      <td id=\"T_0d291_row2_col14\" class=\"data row2 col14\" >{}</td>\n",
       "    </tr>\n",
       "    <tr>\n",
       "      <th id=\"T_0d291_level0_row3\" class=\"row_heading level0 row3\" >3</th>\n",
       "      <td id=\"T_0d291_row3_col0\" class=\"data row3 col0\" >7</td>\n",
       "      <td id=\"T_0d291_row3_col1\" class=\"data row3 col1\" >((0, 0, 0, 0), (1, 1, -1, -1), (-1, -1, 2, 0), (-1, 1, -1, 1), (0, 0, 0, 1), (0, 0, 1, 0), (0, 1, 0, 0), (1, 0, 0, 0), (1, -1, 0, 0), (0, -1, 0, -1), (0, 1, -1, 0), (0, -1, 1, 0))</td>\n",
       "      <td id=\"T_0d291_row3_col2\" class=\"data row3 col2\" >(1, 8, 1, 1, 0, 1, 1, 6, 8, 9, 3, 4)</td>\n",
       "      <td id=\"T_0d291_row3_col3\" class=\"data row3 col3\" >[-4.92702379  3.77994355  9.54218872  5.72556114  0.78614726  1.69804948\n",
       "  1.916531  ]</td>\n",
       "      <td id=\"T_0d291_row3_col4\" class=\"data row3 col4\" >1.000000</td>\n",
       "      <td id=\"T_0d291_row3_col5\" class=\"data row3 col5\" >0.502973</td>\n",
       "      <td id=\"T_0d291_row3_col6\" class=\"data row3 col6\" >0</td>\n",
       "      <td id=\"T_0d291_row3_col7\" class=\"data row3 col7\" >5</td>\n",
       "      <td id=\"T_0d291_row3_col8\" class=\"data row3 col8\" >[ 23.7727385   19.58864274   4.69915286   0.58319399  -6.65488471\n",
       "  -9.11230785 -19.77401829]</td>\n",
       "      <td id=\"T_0d291_row3_col9\" class=\"data row3 col9\" >[15.90119091 15.66053207 15.543914   15.68012353 15.70939733 15.86820176\n",
       " 16.35166671]</td>\n",
       "      <td id=\"T_0d291_row3_col10\" class=\"data row3 col10\" >[0.00000000e+00 0.00000000e+00 0.00000000e+00 0.00000000e+00\n",
       " 0.00000000e+00 3.48199792e+04 1.00000000e+00]</td>\n",
       "      <td id=\"T_0d291_row3_col11\" class=\"data row3 col11\" >[1, 1, 1, 1, 1, 1, 1]</td>\n",
       "      <td id=\"T_0d291_row3_col12\" class=\"data row3 col12\" >unconstrained</td>\n",
       "      <td id=\"T_0d291_row3_col13\" class=\"data row3 col13\" >n/a (lightest fuzzy abundance)</td>\n",
       "      <td id=\"T_0d291_row3_col14\" class=\"data row3 col14\" >{}</td>\n",
       "    </tr>\n",
       "    <tr>\n",
       "      <th id=\"T_0d291_level0_row4\" class=\"row_heading level0 row4\" >4</th>\n",
       "      <td id=\"T_0d291_row4_col0\" class=\"data row4 col0\" >7</td>\n",
       "      <td id=\"T_0d291_row4_col1\" class=\"data row4 col1\" >((0, 0, 0, 0), (1, 1, -1, -1), (-1, -1, 2, 0), (-1, 1, -1, 1), (0, 0, 0, 1), (0, 0, 1, 0), (0, 1, 0, 0), (1, 0, 0, 0), (1, -1, 0, 0), (0, -1, 0, -1), (0, 1, -1, 0), (0, -1, 1, 0))</td>\n",
       "      <td id=\"T_0d291_row4_col2\" class=\"data row4 col2\" >(459395, 0, 811836, 1349106, 993245, 459395, 459395, 459395, 532695, 459395, 617720, 638091)</td>\n",
       "      <td id=\"T_0d291_row4_col3\" class=\"data row4 col3\" >[-4.76924123  3.65889497  9.23661053  5.54220629  0.76097175  1.6436713\n",
       "  1.85515619]</td>\n",
       "      <td id=\"T_0d291_row4_col4\" class=\"data row4 col4\" >0.000000</td>\n",
       "      <td id=\"T_0d291_row4_col5\" class=\"data row4 col5\" >0.502973</td>\n",
       "      <td id=\"T_0d291_row4_col6\" class=\"data row4 col6\" >0</td>\n",
       "      <td id=\"T_0d291_row4_col7\" class=\"data row4 col7\" >5</td>\n",
       "      <td id=\"T_0d291_row4_col8\" class=\"data row4 col8\" >[ 20.30383067  16.41138808   2.48265611  -1.38027589  -8.16076681\n",
       "  -9.1405786  -20.48929704]</td>\n",
       "      <td id=\"T_0d291_row4_col9\" class=\"data row4 col9\" >[15.92946165 15.68880281 15.57218474 15.70839427 15.73766807 15.8964725\n",
       " 16.37993745]</td>\n",
       "      <td id=\"T_0d291_row4_col10\" class=\"data row4 col10\" >[0.         0.         0.         0.         0.         0.50000035\n",
       " 0.49999965]</td>\n",
       "      <td id=\"T_0d291_row4_col11\" class=\"data row4 col11\" >[1.         1.         1.         1.         1.         0.00364169\n",
       " 1.        ]</td>\n",
       "      <td id=\"T_0d291_row4_col12\" class=\"data row4 col12\" >11.081311</td>\n",
       "      <td id=\"T_0d291_row4_col13\" class=\"data row4 col13\" >prompt reheating</td>\n",
       "      <td id=\"T_0d291_row4_col14\" class=\"data row4 col14\" >{}</td>\n",
       "    </tr>\n",
       "  </tbody>\n",
       "</table>\n"
      ],
      "text/plain": [
       "<pandas.io.formats.style.Styler at 0xffff6bf2d950>"
      ]
     },
     "execution_count": 38,
     "metadata": {},
     "output_type": "execute_result"
    }
   ],
   "source": [
    "df.head().style"
   ]
  },
  {
   "cell_type": "code",
   "execution_count": null,
   "id": "e2b7732b-f0b7-4599-812a-ce24936265fb",
   "metadata": {},
   "outputs": [],
   "source": []
  }
 ],
 "metadata": {
  "kernelspec": {
   "display_name": "Python 3 (ipykernel)",
   "language": "python",
   "name": "python3"
  },
  "language_info": {
   "codemirror_mode": {
    "name": "ipython",
    "version": 3
   },
   "file_extension": ".py",
   "mimetype": "text/x-python",
   "name": "python",
   "nbconvert_exporter": "python",
   "pygments_lexer": "ipython3",
   "version": "3.11.10"
  }
 },
 "nbformat": 4,
 "nbformat_minor": 5
}
