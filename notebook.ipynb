{
 "cells": [
  {
   "cell_type": "markdown",
   "id": "d82f20a2-141a-43a5-95e1-815cc1889dae",
   "metadata": {},
   "source": [
    "Make sure you have `CYTools` installed! For instructions, see [here](https://cy.tools/docs/getting-started/)."
   ]
  },
  {
   "cell_type": "code",
   "execution_count": 55,
   "id": "00a1d0ac-6d7b-4f07-968a-961572facca1",
   "metadata": {
    "tags": []
   },
   "outputs": [],
   "source": [
    "import cytools\n",
    "import numpy as np\n",
    "import pandas as pd"
   ]
  },
  {
   "cell_type": "markdown",
   "id": "8c2346b3-0b8a-4e31-9ce0-9af7e999009f",
   "metadata": {},
   "source": [
    "We can begin by reading in the Example data."
   ]
  },
  {
   "cell_type": "code",
   "execution_count": 56,
   "id": "1c5269c5-c759-48d5-b1b6-27847c4ae1c0",
   "metadata": {
    "tags": []
   },
   "outputs": [],
   "source": [
    "df = pd.read_pickle('data.p')"
   ]
  },
  {
   "cell_type": "markdown",
   "id": "d4947e50-08e5-4ed0-b1a0-980503b224d6",
   "metadata": {},
   "source": [
    "Now we can inspect the contents of the `pandas` DataFrame object"
   ]
  },
  {
   "cell_type": "code",
   "execution_count": 57,
   "id": "b98c0d40-0044-4692-8f7d-0883f936b832",
   "metadata": {
    "tags": []
   },
   "outputs": [
    {
     "data": {
      "text/plain": [
       "Index(['h11', 'points', 'heights', 'kahler', 'W0', 'gs', 'QCD_index',\n",
       "       'basis_QCD_index', 'log10 ma eV', 'log10 f GeV', 'omega', 'theta',\n",
       "       'log10 TR GeV', 'TR scenario', 'name', 'extra'],\n",
       "      dtype='object')"
      ]
     },
     "execution_count": 57,
     "metadata": {},
     "output_type": "execute_result"
    }
   ],
   "source": [
    "df.columns"
   ]
  },
  {
   "cell_type": "markdown",
   "id": "05aed73d-cda0-43d8-beff-15171180b432",
   "metadata": {},
   "source": [
    "We have the following columns:\n",
    "    \n",
    " - `h11`: the Hodge number $h^{1,1}$ of the Calabi-Yau threefold (also the number of $C_4$ axions)\n",
    " - `points`: the points of the polytope $\\subset N \\cong \\mathbb{Z}^4$ used to define the ambient toric variety (i.e., the rays of the toric fan)\n",
    " - `heights`: the height vector determining the triangulation of the polytope which gives the specific toric fan of the ambient variety containing the Calabi-Yau threefold as the anticanonical hypersurface (for a review of this construction, see e.g. [here](https://arxiv.org/pdf/2211.03823))\n",
    " - `kahler`: the chosen Kähler parameters, expressed in the default divisor basis chosen by `CYTools` (discussed further momentarily)\n",
    " - `W0`: the value chosen for the Gukov-Vafa-Witten superpotential $W_0$\n",
    " - `gs`: the value chosen for the string coupling $g_s$\n",
    " - `QCD_index`: the (0-)index of the prime toric divisor chosen to host QCD, in the ordering set by `CYTools`\n",
    " - `basis_QCD_index`: the (0-)index of the axion associated to the QCD prime toric divisor, when sorted from largest to smallest instanton scale (smallest to largest instanton action)\n",
    " - `log10 ma eV`: the masses of the $h^{1,1}$ axions, expressed as $\\log_{10}(m_a/\\mathrm{eV})$\n",
    " - `log10 f GeV`: the decay constants of the $h^{1,1}$ axions, expressed as $\\log_{10}(f_a/\\mathrm{GeV})$\n",
    " - `omega`: the relic abundance of the $h^{1,1}$ axions in whatever reheating scenario is associated to that row\n",
    " - `theta`: the chosen initial misalignment angles for the $h^{1,1}$ axions according to the relevant reheating scenario\n",
    " - `log10 TR GeV`: the reheating temperature $T_R$ for the given model according to the relevant reheating scenario (if the scenario is \"prompt reheating\" and there are no axions heavier than the QCD axion, as is the case for most examples, the reheating temperature is unconstrained)\n",
    " - `TR scenario`: the reheating scenario, either \"prompt reheating\" ($w_R = -1$) or \"modulus domination\" ($w_R = 0$), see Sec. 2.2 of our paper\n",
    " - `example`: the name of the subsubsection header associated with the given example\n",
    " - `extra`: any miscellaneous extra data, such as the axion-photon couplings for the birefringence example"
   ]
  },
  {
   "cell_type": "markdown",
   "id": "88a6e664-3d0f-4dea-8428-59e884d625bb",
   "metadata": {
    "tags": []
   },
   "source": [
    "Let's look at an example: in particular, let's look at the prompt reheating scenario as discussed in the cosmology illustration section."
   ]
  },
  {
   "cell_type": "code",
   "execution_count": 63,
   "id": "e2b7732b-f0b7-4599-812a-ce24936265fb",
   "metadata": {},
   "outputs": [],
   "source": [
    "datum = df.iloc[1]"
   ]
  },
  {
   "cell_type": "code",
   "execution_count": 65,
   "id": "9d733183-c7ab-40df-8f03-b1e2052303d1",
   "metadata": {
    "tags": []
   },
   "outputs": [
    {
     "data": {
      "text/plain": [
       "('cosmology illustration', 'prompt reheating')"
      ]
     },
     "execution_count": 65,
     "metadata": {},
     "output_type": "execute_result"
    }
   ],
   "source": [
    "datum['name'], datum['TR scenario']"
   ]
  },
  {
   "cell_type": "markdown",
   "id": "9729dedf-41d0-4aba-8097-c982ca9a7531",
   "metadata": {},
   "source": [
    "Let's construct the relevant Calabi-Yau object"
   ]
  },
  {
   "cell_type": "code",
   "execution_count": 69,
   "id": "94616bfd-186e-44be-8e0f-c5df9b8f1f7f",
   "metadata": {},
   "outputs": [],
   "source": [
    "polytope = cytools.Polytope(datum['points'])\n",
    "triangulation = polytope.triangulate(heights=datum['heights'])\n",
    "cy = triangulation.cy()"
   ]
  },
  {
   "cell_type": "markdown",
   "id": "4dc497af-f9bf-4a15-afd9-f079be59818d",
   "metadata": {},
   "source": [
    "We can quickly verify that each of these objects has the right datatype"
   ]
  },
  {
   "cell_type": "code",
   "execution_count": 70,
   "id": "3599ebdf-c85c-4a30-99de-f86c37c7cf81",
   "metadata": {
    "tags": []
   },
   "outputs": [
    {
     "data": {
      "text/plain": [
       "A 4-dimensional reflexive lattice polytope in ZZ^4 with points [(0, 0, 0, 0), (0, 1, 0, 0), (-1, 0, 1, -1), (0, 0, 0, 1), (0, 0, 1, 0), (2, -1, -1, 0), (-1, -1, -1, 0), (1, 0, 0, 0), (-1, 0, 0, 0), (0, -1, -1, 0), (1, -1, -1, 0)] which are labelled [0, 1, 2, 3, 4, 5, 6, 7, 8, 9, 10]"
      ]
     },
     "execution_count": 70,
     "metadata": {},
     "output_type": "execute_result"
    }
   ],
   "source": [
    "polytope"
   ]
  },
  {
   "cell_type": "code",
   "execution_count": 71,
   "id": "22a2f795-e838-4ba9-94cc-fcc07f08ee77",
   "metadata": {
    "tags": []
   },
   "outputs": [
    {
     "data": {
      "text/plain": [
       "A fine, regular, star triangulation of a 4-dimensional point configuration with 11 points in ZZ^4"
      ]
     },
     "execution_count": 71,
     "metadata": {},
     "output_type": "execute_result"
    }
   ],
   "source": [
    "triangulation"
   ]
  },
  {
   "cell_type": "code",
   "execution_count": 72,
   "id": "b4ac7dc9-c55e-44ab-bbaf-250f01592a0a",
   "metadata": {
    "tags": []
   },
   "outputs": [
    {
     "data": {
      "text/plain": [
       "A Calabi-Yau 3-fold hypersurface with h11=6 and h21=46 in a 4-dimensional toric variety"
      ]
     },
     "execution_count": 72,
     "metadata": {},
     "output_type": "execute_result"
    }
   ],
   "source": [
    "cy"
   ]
  },
  {
   "cell_type": "markdown",
   "id": "1eb42994-6d94-4671-af43-214a5803cf06",
   "metadata": {},
   "source": [
    "For example, we can print out some parameters"
   ]
  },
  {
   "cell_type": "code",
   "execution_count": 107,
   "id": "3c7a6789-6b42-45b0-9136-d8217b2bed95",
   "metadata": {
    "tags": []
   },
   "outputs": [
    {
     "name": "stdout",
     "output_type": "stream",
     "text": [
      "log10(ma/eV) = [13.4, -1.3, -8.8, -15.9, -18.0, -20.8]\n",
      "log10(f/GeV) = [15.6, 15.6, 15.6, 15.3, 15.7, 15.9]\n"
     ]
    }
   ],
   "source": [
    "print(f'log10(ma/eV) = {np.round(datum[\"log10 ma eV\"],1).tolist()}')\n",
    "print(f'log10(f/GeV) = {np.round(datum[\"log10 f GeV\"],1).tolist()}')"
   ]
  },
  {
   "cell_type": "code",
   "execution_count": 108,
   "id": "e75970fc-0208-4831-9a53-fecbd7d39ce2",
   "metadata": {
    "tags": []
   },
   "outputs": [
    {
     "data": {
      "text/plain": [
       "2"
      ]
     },
     "execution_count": 108,
     "metadata": {},
     "output_type": "execute_result"
    }
   ],
   "source": [
    "datum[\"basis_QCD_index\"]"
   ]
  },
  {
   "cell_type": "markdown",
   "id": "e44a05eb-1701-4cac-a607-294423d09da1",
   "metadata": {},
   "source": [
    "Because `basis_QCD_index` is 2, we know that the QCD index appears third (!!) in the above list, having a mass of $10^{-8.8}$ eV."
   ]
  },
  {
   "cell_type": "markdown",
   "id": "4aa06bdd-dd2d-4619-b184-8e5414df2b96",
   "metadata": {
    "tags": []
   },
   "source": [
    "We can also verify some of the geometric numbers reported in Section 4.2.2. For example, we can check the volume of the QCD divisor."
   ]
  },
  {
   "cell_type": "code",
   "execution_count": 109,
   "id": "915f520a-e8e6-465a-9d61-595eb82f577f",
   "metadata": {
    "tags": []
   },
   "outputs": [],
   "source": [
    "tau = cy.compute_divisor_volumes(datum['kahler'])"
   ]
  },
  {
   "cell_type": "code",
   "execution_count": 110,
   "id": "f43af769-16c1-4456-8746-0b8fd62fa857",
   "metadata": {
    "tags": []
   },
   "outputs": [
    {
     "name": "stdout",
     "output_type": "stream",
     "text": [
      "The divisor volumes are [129.9, 56.6, 56.6, 73.3, 34.7, 33.4, 8.4, 19.3, 30.2, 31.5]; in particular, the QCD divisor volume is 34.7\n"
     ]
    }
   ],
   "source": [
    "print(f'The divisor volumes are {np.round(tau,1).tolist()}; in particular, the QCD divisor volume is {tau[datum[\"QCD_index\"]]:.1f}')"
   ]
  },
  {
   "cell_type": "markdown",
   "id": "d03df908-edee-4c5c-8206-e80cc35ea5c7",
   "metadata": {},
   "source": [
    "Let's now look at the KK scale in this example."
   ]
  },
  {
   "cell_type": "code",
   "execution_count": 118,
   "id": "cd8685b3-1a3c-4bc7-af9d-b7c9fc894118",
   "metadata": {
    "tags": []
   },
   "outputs": [
    {
     "name": "stdout",
     "output_type": "stream",
     "text": [
      "The KK scale for this model is 5.3e+16 GeV\n"
     ]
    }
   ],
   "source": [
    "mPl_GeV = 2.4e18 # Planck mass, in eV\n",
    "cy_vol = cy.compute_cy_volume(datum['kahler'])\n",
    "print(f'The KK scale for this model is {mPl_GeV / cy_vol**(2/3):.1e} GeV')"
   ]
  },
  {
   "cell_type": "markdown",
   "id": "df6b345b-212f-4d23-a713-2e4b522f5d88",
   "metadata": {},
   "source": [
    "Finally, let's compute the Hubble scale $H_R$ at reheating from $W_0$, using Eq. 3.30 from the paper (letting the Planck mass set the scale of the modulus)."
   ]
  },
  {
   "cell_type": "code",
   "execution_count": 123,
   "id": "3ba66058-2d5b-4dee-b473-bef4309399a7",
   "metadata": {
    "tags": []
   },
   "outputs": [],
   "source": [
    "H_R = (datum['gs']**6 * datum['W0']**3 * (1e9 * mPl_GeV)) / (2**(33/2) * np.pi * cy_vol**3)"
   ]
  },
  {
   "cell_type": "code",
   "execution_count": 129,
   "id": "ac05d34c-d440-4a75-84fc-c83e3cf64146",
   "metadata": {
    "tags": []
   },
   "outputs": [
    {
     "name": "stdout",
     "output_type": "stream",
     "text": [
      "3H_R = 0.046 eV\n"
     ]
    }
   ],
   "source": [
    "print(f'3H_R = {3 * H_R:.3f} eV')"
   ]
  },
  {
   "cell_type": "markdown",
   "id": "bf4b73a1-0ef5-4455-8676-7eccb2c0bcb7",
   "metadata": {},
   "source": [
    "As we discuss in the text, notice how this is comparable to the mass of the lightest heavy axion (i.e., the lightest axion heavier than the QCD axion): this means that if $W_0$ set the reheating scale for the prompt reheating scenario, all axions heavier than the QCD axion would have their abundance exponentially diluted by inflation."
   ]
  },
  {
   "cell_type": "code",
   "execution_count": 133,
   "id": "bc4f96c5-a774-4be7-8816-ad85b8c0f02e",
   "metadata": {
    "tags": []
   },
   "outputs": [
    {
     "name": "stdout",
     "output_type": "stream",
     "text": [
      "The mass of the lightest heavy axion is 0.046 eV\n"
     ]
    }
   ],
   "source": [
    "print(f'The mass of the lightest heavy axion is {10.**datum[\"log10 ma eV\"][datum[\"basis_QCD_index\"]-1]:.3f} eV')"
   ]
  },
  {
   "cell_type": "code",
   "execution_count": null,
   "id": "4e43daf2-3fad-4e0d-9993-782f62e89c75",
   "metadata": {},
   "outputs": [],
   "source": []
  }
 ],
 "metadata": {
  "kernelspec": {
   "display_name": "Python 3 (ipykernel)",
   "language": "python",
   "name": "python3"
  },
  "language_info": {
   "codemirror_mode": {
    "name": "ipython",
    "version": 3
   },
   "file_extension": ".py",
   "mimetype": "text/x-python",
   "name": "python",
   "nbconvert_exporter": "python",
   "pygments_lexer": "ipython3",
   "version": "3.11.10"
  }
 },
 "nbformat": 4,
 "nbformat_minor": 5
}
